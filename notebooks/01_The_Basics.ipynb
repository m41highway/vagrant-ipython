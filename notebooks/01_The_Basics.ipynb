{
 "cells": [
  {
   "cell_type": "markdown",
   "metadata": {},
   "source": [
    "# The Basics"
   ]
  },
  {
   "cell_type": "markdown",
   "metadata": {},
   "source": [
    "Congratulations! If you can see this, you managed to install everything you need to start coding. Place the cursor in the line beneath and press the \"play\" button.\n"
   ]
  },
  {
   "cell_type": "markdown",
   "metadata": {},
   "source": [
    "![Press this button to execute your code](ressources/Lessons/images/ButtonToExecute.png)"
   ]
  },
  {
   "cell_type": "code",
   "execution_count": null,
   "metadata": {
    "collapsed": false
   },
   "outputs": [],
   "source": [
    "print \" hello world\""
   ]
  },
  {
   "cell_type": "markdown",
   "metadata": {
    "collapsed": true
   },
   "source": [
    "So you just executed your first command python command. You just instructed python to print the sentence \"hello world\" to the console / to output."
   ]
  },
  {
   "cell_type": "markdown",
   "metadata": {},
   "source": [
    "## Calculate mathematical expressions"
   ]
  },
  {
   "cell_type": "markdown",
   "metadata": {},
   "source": [
    "Try to see what happens, if you type `2+2` as an expression in the next command line, and execute this."
   ]
  },
  {
   "cell_type": "code",
   "execution_count": null,
   "metadata": {
    "collapsed": false
   },
   "outputs": [],
   "source": [
    "2+2"
   ]
  },
  {
   "cell_type": "markdown",
   "metadata": {},
   "source": [
    "As you see python calculates the result and prints it to the console"
   ]
  },
  {
   "cell_type": "markdown",
   "metadata": {},
   "source": [
    "Now try `2 + 3 * 4` The result should of course be 14 (20 would be wrong)"
   ]
  },
  {
   "cell_type": "code",
   "execution_count": null,
   "metadata": {
    "collapsed": false
   },
   "outputs": [],
   "source": [
    "2+3*4"
   ]
  },
  {
   "cell_type": "markdown",
   "metadata": {},
   "source": [
    "As you can see python uses operator precendence to calculate the result of an expression, i.e. it calculates a multiplication before it calculates an addition."
   ]
  },
  {
   "cell_type": "markdown",
   "metadata": {},
   "source": [
    "EXERCISE: Do some expreiments of your own. Use +,-,\\*,\\*\\* as operators and see what is happening"
   ]
  },
  {
   "cell_type": "code",
   "execution_count": null,
   "metadata": {
    "collapsed": true
   },
   "outputs": [],
   "source": []
  },
  {
   "cell_type": "markdown",
   "metadata": {},
   "source": [
    "See whether 20-2*\\3\\*\\*2+4/2\\*3 is calculated correctly. Also try to introduce brackets to change the order of operator precendence."
   ]
  },
  {
   "cell_type": "markdown",
   "metadata": {},
   "source": [
    "## Other Math functions\n",
    "\n",
    "So now we will import a module. A module is a set of functions that can be used when imported to your program. In this case we will import the ´math´ module to provide us with various advanced functions.\n",
    "\n",
    "Let us use the function sqrt (that is provided in the ´math´ module) to calculate the square root of 9."
   ]
  },
  {
   "cell_type": "code",
   "execution_count": null,
   "metadata": {
    "collapsed": false
   },
   "outputs": [],
   "source": [
    "import math\n",
    "math.sqrt(9)"
   ]
  },
  {
   "cell_type": "markdown",
   "metadata": {},
   "source": [
    "Use the help() function to get more information about a module in python (help provides you with usefull information on other objects as well). Let us have a look which functions are included in the math module. "
   ]
  },
  {
   "cell_type": "code",
   "execution_count": null,
   "metadata": {
    "collapsed": false
   },
   "outputs": [],
   "source": [
    "help (math)"
   ]
  },
  {
   "cell_type": "markdown",
   "metadata": {},
   "source": [
    "EXERCISE: Calculate 2 to the power of 3 with help of a function defined in the ´math´ module"
   ]
  },
  {
   "cell_type": "code",
   "execution_count": null,
   "metadata": {
    "collapsed": false
   },
   "outputs": [],
   "source": [
    "math.sin(math.pi)"
   ]
  },
  {
   "cell_type": "markdown",
   "metadata": {},
   "source": [
    "EXERCISE: Use the constant math.pi and the sinus function from the math module to calculate sin(pi). Look at the result. What surprises you?"
   ]
  },
  {
   "cell_type": "code",
   "execution_count": null,
   "metadata": {
    "collapsed": true
   },
   "outputs": [],
   "source": []
  },
  {
   "cell_type": "markdown",
   "metadata": {},
   "source": [
    "sin(pi) equals 0. However a computer does not calculate with infinite precision, and a computer is not able to calculate with the meaning of pi (although computer algebra systems can do so). So numbers are often stored and calculated with as approximation 1x10^-16 is very close to zero. "
   ]
  },
  {
   "cell_type": "code",
   "execution_count": null,
   "metadata": {
    "collapsed": true
   },
   "outputs": [],
   "source": []
  },
  {
   "cell_type": "markdown",
   "metadata": {},
   "source": [
    "## Variables"
   ]
  },
  {
   "cell_type": "markdown",
   "metadata": {
    "collapsed": true
   },
   "source": [
    "My pocket calculator can store a number away & remember it later. Can you do this with python as well?\n",
    "Of course. In fact it is possible to store all kinds of information (not only numbers) in various ways and retrieve them easily.\n",
    "Let us begin with a simple variable. Try:"
   ]
  },
  {
   "cell_type": "code",
   "execution_count": null,
   "metadata": {
    "collapsed": true
   },
   "outputs": [],
   "source": [
    "e = 58"
   ]
  },
  {
   "cell_type": "markdown",
   "metadata": {},
   "source": [
    "This statement has a \"set /or assigned a variable with name e to value 58\". So What does this mean exactly?\n",
    "\n",
    "First, the computer has reserved a place inside its memory where you can store a number.\n",
    "\n",
    "Second, it has given this place the name 'e' so you can refer to it later. This combination of storage space and\n",
    "name is called a \"variable\". \n",
    "\n",
    "Third, it has stored the number 58 in the space: we say that it has assigned the\n",
    "value 58 to the variable [whose name is] \"e\". \"e\" is a numeric variable, because its value is a\n",
    "number.\n",
    "\n",
    "Let us assume \"e\" stands for a dozen of eggs and 58 is the price. Let us first \"recall\" the value. Simply type \"e\" as a statement in the command prompt."
   ]
  },
  {
   "cell_type": "code",
   "execution_count": null,
   "metadata": {
    "collapsed": false
   },
   "outputs": [],
   "source": [
    "e"
   ]
  },
  {
   "cell_type": "markdown",
   "metadata": {},
   "source": [
    "So if a dozen eggs cost 58, what is the prize of of half dozen eggs? Let us use the variable in an expression:"
   ]
  },
  {
   "cell_type": "code",
   "execution_count": null,
   "metadata": {
    "collapsed": false
   },
   "outputs": [],
   "source": [
    "e/2"
   ]
  },
  {
   "cell_type": "markdown",
   "metadata": {},
   "source": [
    "This is important, you can use variables like you would use the numbers directly."
   ]
  },
  {
   "cell_type": "markdown",
   "metadata": {},
   "source": [
    "In fact, should you want to know the square of the consine of the price of one egg, you can type"
   ]
  },
  {
   "cell_type": "code",
   "execution_count": null,
   "metadata": {
    "collapsed": false
   },
   "outputs": [],
   "source": [
    "math.cos((e/12)**2)"
   ]
  },
  {
   "cell_type": "markdown",
   "metadata": {},
   "source": [
    "I can not tell you, under which cicumstances you might want the know the cosine of the square of the price of an egg. But you will use variables in all kind of statements and expressions."
   ]
  },
  {
   "cell_type": "markdown",
   "metadata": {},
   "source": [
    "Now let us assume, that the price for a dozen eggs has gone up. (prices usually do not go down). The price now is 62."
   ]
  },
  {
   "cell_type": "code",
   "execution_count": null,
   "metadata": {
    "collapsed": true
   },
   "outputs": [],
   "source": [
    "e=62"
   ]
  },
  {
   "cell_type": "markdown",
   "metadata": {},
   "source": [
    "EXERCISE: So what is now the price for half a dozen of eggs."
   ]
  },
  {
   "cell_type": "markdown",
   "metadata": {},
   "source": [
    "Let us now look at the price of milk. See what is the value of the variable \"m\""
   ]
  },
  {
   "cell_type": "code",
   "execution_count": null,
   "metadata": {
    "collapsed": false
   },
   "outputs": [],
   "source": [
    "m"
   ]
  },
  {
   "cell_type": "markdown",
   "metadata": {},
   "source": [
    "Ups. A syntax error. Nothing to worry. You will deal with _lots_ and _lots_ of errors. Right now \"m\" is not a varible, we have to assign a value in order to tell python, that \"m\" is now a space in memory with a given value."
   ]
  },
  {
   "cell_type": "code",
   "execution_count": null,
   "metadata": {
    "collapsed": true
   },
   "outputs": [],
   "source": [
    "m=18.5"
   ]
  },
  {
   "cell_type": "markdown",
   "metadata": {},
   "source": [
    "## Variable names"
   ]
  },
  {
   "cell_type": "markdown",
   "metadata": {},
   "source": [
    "In fact \"m\" and \"e\" are bad variable names, as there are easily hundreds of variables in even a small program, you will want to use explicit variable names."
   ]
  },
  {
   "cell_type": "code",
   "execution_count": null,
   "metadata": {
    "collapsed": true
   },
   "outputs": [],
   "source": [
    "milk=18.5\n",
    "eggs=62"
   ]
  },
  {
   "cell_type": "markdown",
   "metadata": {},
   "source": [
    "EXERCISE: Make sure that you can use these variables, as would you use m and e."
   ]
  },
  {
   "cell_type": "markdown",
   "metadata": {},
   "source": [
    "Let us try this:"
   ]
  },
  {
   "cell_type": "markdown",
   "metadata": {},
   "source": [
    "dozen of eggs = 62"
   ]
  },
  {
   "cell_type": "markdown",
   "metadata": {},
   "source": [
    "There are some restrictions in variable names. For instance there must not be spaces in variable names."
   ]
  },
  {
   "cell_type": "code",
   "execution_count": null,
   "metadata": {
    "collapsed": false
   },
   "outputs": [],
   "source": [
    "12eggs=62"
   ]
  },
  {
   "cell_type": "markdown",
   "metadata": {},
   "source": [
    "Also variable names should not start with a number."
   ]
  },
  {
   "cell_type": "code",
   "execution_count": null,
   "metadata": {
    "collapsed": false
   },
   "outputs": [],
   "source": [
    "for=62"
   ]
  },
  {
   "cell_type": "markdown",
   "metadata": {},
   "source": [
    "This does not work either, because \"for\" is a reserved word. It is used as a command in python and must not be used as a variable name. Look at the color and font. Jupyter is giving you hints on what is allowed."
   ]
  },
  {
   "cell_type": "markdown",
   "metadata": {},
   "source": [
    "Exercise: Will \"eggs\" and \"Eggs\" be the same? Can you define two variables, with variable names, that just differ whether you use small or large caps letters? What about x and X?"
   ]
  },
  {
   "cell_type": "code",
   "execution_count": null,
   "metadata": {
    "collapsed": true
   },
   "outputs": [],
   "source": []
  },
  {
   "cell_type": "markdown",
   "metadata": {},
   "source": [
    "Yes, you are right python is \"case sensitive\". This can lead to some nasty errors (if you mix spellings)."
   ]
  },
  {
   "cell_type": "markdown",
   "metadata": {},
   "source": [
    "There are a different ways to handle variable names. But usually you do yourself (and others) a favor if you name variables consistently. I recommend using small caps variables with underscores, like \"dozen_of_eggs\"."
   ]
  },
  {
   "cell_type": "markdown",
   "metadata": {},
   "source": [
    "## Floats and integers"
   ]
  },
  {
   "cell_type": "code",
   "execution_count": null,
   "metadata": {
    "collapsed": false
   },
   "outputs": [],
   "source": [
    "dozen_of_eggs = 61\n",
    "dozen_of_eggs / 2"
   ]
  },
  {
   "cell_type": "markdown",
   "metadata": {},
   "source": [
    "So what is happening here? Obviously the half of 61 is 30.5 and not 30.\n",
    "\n",
    "In python (and most other programming languages) there are two types of numbers. Integers and flots. When we assigned \"dozen_of_eggs\" the value 61. We assigned it an integer value (that is a natural number). (\"eine ganzzahlinge Zahl\"). So \"dozen_of_eggs\" is now an integer value. Python will cut any decimal value. There is no rounding, everything behind the comma is just neglected.\n",
    "\n",
    "You will learn that integer variables are very useful, though for doing mathematical calculations you most often will not want to use integer variables.\n",
    "\n",
    "The other type of numbers are floats, they are able to store decimal vaules. How to create foat variables? This simply done by storing a decimal value, like so:"
   ]
  },
  {
   "cell_type": "code",
   "execution_count": null,
   "metadata": {
    "collapsed": false
   },
   "outputs": [],
   "source": [
    "dozen_of_eggs = 61.0\n",
    "dozen_of_eggs / 2"
   ]
  },
  {
   "cell_type": "markdown",
   "metadata": {},
   "source": [
    "ATTENTION: Especially for our German speaking friends. Remark that you have to use the english way of writing numbers. That is: Use a decimal point, do not use a comma."
   ]
  },
  {
   "cell_type": "markdown",
   "metadata": {},
   "source": [
    "## Exercises"
   ]
  },
  {
   "cell_type": "markdown",
   "metadata": {},
   "source": [
    "If you're unfamiliar with raising to powers (**, shifted H) then do this exercise.\n",
    "\n",
    "At its most elementary level, 'A**B' means 'A multiplied by itself B times'\n",
    "\n",
    "obviously this only makes\n",
    "sense if B is a positive whole number. \n",
    "To find a definition that works for other values of B, we consider the\n",
    "rule\n",
    "\n",
    "`A**(B+C) = A**B * A**C`\n",
    "\n",
    "You should not need much convincing that this works when B and C are both positive whole numbers. Now try this. Define three variables A, B and C. Use integer values for B and C. Try to show if the formula above holds true for variousl values of A, B and C."
   ]
  },
  {
   "cell_type": "code",
   "execution_count": null,
   "metadata": {
    "collapsed": true
   },
   "outputs": [],
   "source": []
  },
  {
   "cell_type": "markdown",
   "metadata": {},
   "source": [
    "Now, all this is even defined and valid, if B and C are not whole numbers!\n",
    "\n",
    "We find ourselves compelled to accept\n",
    "that\n",
    "\n",
    "`A**0 = 1`\n",
    "\n",
    "Again try this out for various values of A"
   ]
  },
  {
   "cell_type": "code",
   "execution_count": null,
   "metadata": {
    "collapsed": false
   },
   "outputs": [],
   "source": []
  },
  {
   "cell_type": "markdown",
   "metadata": {},
   "source": [
    "Also try if \n",
    "\n",
    "`A**(-B) = 1/A**B`\n",
    "\n",
    "and \n",
    "\n",
    "`A**(1/B) = the Bth root of A`\n",
    "\n",
    "If you've never seen any of this before then don't try to remember it straight away; just remember that\n",
    "maybe when you're familiar with these the rest will begin to make sense.\n",
    "Experiment with all this by telling the computer to print various expressions containing `**`: e.g.\n",
    "\n",
    "```python\n",
    "3.0**(2+0)\n",
    "3.0**2*3**0\n",
    "4.0**-1\n",
    "1.0/4\n",
    "```"
   ]
  },
  {
   "cell_type": "code",
   "execution_count": null,
   "metadata": {
    "collapsed": true
   },
   "outputs": [],
   "source": []
  },
  {
   "cell_type": "markdown",
   "metadata": {},
   "source": [
    "Type\n",
    "\n",
    "`e=math.exp(1)`\n",
    "\n",
    "Now E has the value 2.718281828..., the base of natural logarithms. Test the rule\n",
    "\n",
    "`math.exp(a) = e ** a`\n",
    "\n",
    "for various float numbers a."
   ]
  },
  {
   "cell_type": "code",
   "execution_count": null,
   "metadata": {
    "collapsed": true
   },
   "outputs": [],
   "source": []
  }
 ],
 "metadata": {
  "kernelspec": {
   "display_name": "Python 2",
   "language": "python",
   "name": "python2"
  },
  "language_info": {
   "codemirror_mode": {
    "name": "ipython",
    "version": 2
   },
   "file_extension": ".py",
   "mimetype": "text/x-python",
   "name": "python",
   "nbconvert_exporter": "python",
   "pygments_lexer": "ipython2",
   "version": "2.7.10"
  }
 },
 "nbformat": 4,
 "nbformat_minor": 0
}
