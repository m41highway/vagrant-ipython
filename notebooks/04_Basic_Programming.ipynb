{
 "cells": [
  {
   "cell_type": "markdown",
   "metadata": {},
   "source": [
    "# Basic Programming\n",
    "Let us see what happens, when we use several lines of \"program code\" (commands to python) at once:"
   ]
  },
  {
   "cell_type": "code",
   "execution_count": null,
   "metadata": {
    "collapsed": false
   },
   "outputs": [],
   "source": [
    "butter=40\n",
    "yeast=30\n",
    "print butter, yeast"
   ]
  },
  {
   "cell_type": "markdown",
   "metadata": {},
   "source": [
    "Now let us have a little bit of interaction. The command `input` opens up a little box where python waits for input from the user. Type in a price for butte (e.g. \"50\")."
   ]
  },
  {
   "cell_type": "code",
   "execution_count": null,
   "metadata": {
    "collapsed": false
   },
   "outputs": [],
   "source": [
    "butter=input(\"price for butter?\")\n",
    "yeast=30\n",
    "print butter, yeast"
   ]
  },
  {
   "cell_type": "markdown",
   "metadata": {
    "collapsed": true
   },
   "source": [
    "Now let us see how we can repetitive tasks with python."
   ]
  },
  {
   "cell_type": "code",
   "execution_count": null,
   "metadata": {
    "collapsed": true
   },
   "outputs": [],
   "source": [
    "# THIS PROGRAM EXTRACTS SQUARE ROOTS\n",
    "import math\n",
    "while True:\n",
    "    r = input(\"value of radix?\")\n",
    "    print r, math.sqrt(r)"
   ]
  },
  {
   "cell_type": "markdown",
   "metadata": {},
   "source": [
    "A lot is going on here: \n",
    "* The first line starts with a \"#\". This is comment, everything behind the \"#\" is ignored by python. You use comments as reminder for yourself (or others) what the code is all about.\n",
    "* Then there is \"while loop\". Every indented line after this line will be repeated infinitely. Mark the colon at the end of the while statement\n",
    "* In python it is important to do proper indentation. Please always use \"spaces\" to create indentation. Especially do not use tabs together with indentation via spaces."
   ]
  },
  {
   "cell_type": "markdown",
   "metadata": {
    "collapsed": true
   },
   "source": [
    "EXERCISE: `len(\"hello\")` gives you the length of the string \"hello\". Use this function to write a little program that asks you for input strings and returns the length of each string."
   ]
  },
  {
   "cell_type": "code",
   "execution_count": null,
   "metadata": {
    "collapsed": true
   },
   "outputs": [],
   "source": []
  },
  {
   "cell_type": "markdown",
   "metadata": {},
   "source": [
    "EXERCISE: Write a program, that asks you for mathematical statements and returns the result for each calculation. E.G. \"4+4\" should return \"8\" as result."
   ]
  },
  {
   "cell_type": "code",
   "execution_count": null,
   "metadata": {
    "collapsed": true
   },
   "outputs": [],
   "source": []
  },
  {
   "cell_type": "markdown",
   "metadata": {},
   "source": [
    "All the program we've seen so far have been pretty predictable - they went straight through doing all the\n",
    "instructions, and then maybe went back to the beginning again. This is not all that useful. In practice the\n",
    "computer would be expected to make decisions & act accordingly; it does this using the IF statement.\n",
    "Run this terribly amusing little program:"
   ]
  },
  {
   "cell_type": "code",
   "execution_count": null,
   "metadata": {
    "collapsed": false
   },
   "outputs": [],
   "source": [
    "a = raw_input(\"SHALL I TELL YOU A JOKE? \")\n",
    "if a==\"get lost\": \n",
    "    print \"ALL RIGHT, THEN, I WONT.\"\n",
    "else:\n",
    "    print \"HOW MANY LEGS HAS A HORSE GOT?\"\n",
    "    legs =  input()\n",
    "    if legs==6:\n",
    "        print \"YES, SHALL I TELL YOU IT AGAIN?\"\n",
    "    else:\n",
    "        print \"NO, 6, FORE LEGS IN FRONT AND TWO BEHIND.\""
   ]
  },
  {
   "cell_type": "markdown",
   "metadata": {},
   "source": [
    "If the value of the variable `a` is equal to \"get lost\", then program prints \"ALL RIGHT, THEN I WONT.\" In all other cases it will follow the \"else-branch\".\n",
    "\n",
    "Remark: Look at the indentation, to figure out what happens in the various \"branches\". Indentations are really important in python.\n",
    "\n",
    "Remark: There is a big difference between `r = 6` (this means set the value of the variable `r` to six) and `r == 6` (this means check whether the value of r is six, or not)\n",
    "\n",
    "EXERCISE: Play around with this program. What answers are necessary to produce each of the possible answers the program can print?\n",
    "\n",
    "EXERCISE: Make you own little joke program."
   ]
  },
  {
   "cell_type": "code",
   "execution_count": null,
   "metadata": {
    "collapsed": true
   },
   "outputs": [],
   "source": []
  },
  {
   "cell_type": "markdown",
   "metadata": {},
   "source": [
    "EXERCISE: Make a program with two or three jokes and use a loop so that a user can be told several jokes."
   ]
  },
  {
   "cell_type": "code",
   "execution_count": null,
   "metadata": {
    "collapsed": true
   },
   "outputs": [],
   "source": []
  },
  {
   "cell_type": "markdown",
   "metadata": {},
   "source": [
    "Now let us try this:"
   ]
  },
  {
   "cell_type": "code",
   "execution_count": null,
   "metadata": {
    "collapsed": false
   },
   "outputs": [],
   "source": [
    "biggest = 0\n",
    "while True:\n",
    "    print \"NUMBER BIGGEST SO FAR\"\n",
    "    a=input()\n",
    "    if biggest < a: \n",
    "        biggest = a\n",
    "    print a,biggest"
   ]
  },
  {
   "cell_type": "markdown",
   "metadata": {},
   "source": [
    "What is happening here? `biggest < a` is true only if the value of variable `biggest` is smaller than value of variable `a`. So only if `biggest < a` is true, will the variable `biggest` assigned to a new value.\n",
    "\n",
    "Let us now modify the program in such a way, that the loop stops after 5 iterations."
   ]
  },
  {
   "cell_type": "code",
   "execution_count": null,
   "metadata": {
    "collapsed": false
   },
   "outputs": [],
   "source": [
    "biggest = 0\n",
    "i = 0\n",
    "while i < 5:\n",
    "    print \"NUMBER BIGGEST SO FAR\"\n",
    "    a=input()\n",
    "    if biggest < a: \n",
    "        biggest = a\n",
    "    print a,biggest\n",
    "    i=i+1"
   ]
  },
  {
   "cell_type": "markdown",
   "metadata": {},
   "source": [
    "EXERCISE: Copy the program and modify it. Change the number of iterations t 3. The program shall now print the smallest number so far. \n",
    "HINT: Use a good name for the variable of the smallest number\n",
    "What about negative numbers. Modify the program in such a way that negative numbers are ignored."
   ]
  },
  {
   "cell_type": "code",
   "execution_count": null,
   "metadata": {
    "collapsed": true
   },
   "outputs": [],
   "source": []
  }
 ],
 "metadata": {
  "kernelspec": {
   "display_name": "Python 2",
   "language": "python",
   "name": "python2"
  },
  "language_info": {
   "codemirror_mode": {
    "name": "ipython",
    "version": 2
   },
   "file_extension": ".py",
   "mimetype": "text/x-python",
   "name": "python",
   "nbconvert_exporter": "python",
   "pygments_lexer": "ipython2",
   "version": "2.7.10"
  }
 },
 "nbformat": 4,
 "nbformat_minor": 0
}
