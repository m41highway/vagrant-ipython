{
 "cells": [
  {
   "cell_type": "markdown",
   "metadata": {},
   "source": [
    "# Strings"
   ]
  },
  {
   "cell_type": "markdown",
   "metadata": {
    "collapsed": true
   },
   "source": [
    "One thing the ZX81 can do that pocket calculators cannot is deal with text. Type:"
   ]
  },
  {
   "cell_type": "code",
   "execution_count": null,
   "metadata": {
    "collapsed": false
   },
   "outputs": [],
   "source": [
    "print \"Hi there. I am your PYTHON Interpreter.\""
   ]
  },
  {
   "cell_type": "markdown",
   "metadata": {},
   "source": [
    "The chilling greeting inside the quotes is called a string (meaning a string of characters), and can contain\n",
    "any characters you like except the string quote,\". \n",
    "\n",
    "A common typing error with strings is to miss out one of the quotes - this will give you the marker.\n",
    "If you are printing numbers out, you can use these strings to explain what the numbers mean. For\n",
    "instance, type:"
   ]
  },
  {
   "cell_type": "code",
   "execution_count": null,
   "metadata": {
    "collapsed": false
   },
   "outputs": [],
   "source": [
    "dozen_of_eggs=61.0\n",
    "print \"THE PRICE OF EGGS IS \", dozen_of_eggs, \" NEW PENCE A DOZEN.\""
   ]
  },
  {
   "cell_type": "markdown",
   "metadata": {},
   "source": [
    "This statement displays three things (`print` items), namely the string \"THE PRICE OF EGGS IS \", the\n",
    "number 61 (the value of the variable dozen_of_eggs), & then the string \" NEW PENCE A DOZEN.\" In fact you can\n",
    "`print` any number of items you like, and any mixture of strings and numbers (or expressions), note how the\n",
    "spaces in a string are just as much part of it as the letters. They are not ignored even at the end.\n",
    "\n",
    "Have a close look at the \"syntax highlighting\" that jupyter does for you. Also look how the various parts of the message are separated with commata.\n",
    "\n",
    "This actually a statement. `print` is a python command. You command the python system to put some message to the output.\n",
    "\n",
    "There are lots of things you can do with strings."
   ]
  },
  {
   "cell_type": "markdown",
   "metadata": {},
   "source": [
    "You can assign them to variables. For instance, type:"
   ]
  },
  {
   "cell_type": "code",
   "execution_count": null,
   "metadata": {
    "collapsed": true
   },
   "outputs": [],
   "source": [
    "some_text=\"DOUBLE GLOUCESTER\""
   ]
  },
  {
   "cell_type": "markdown",
   "metadata": {},
   "source": [
    "Recall the string:"
   ]
  },
  {
   "cell_type": "code",
   "execution_count": null,
   "metadata": {
    "collapsed": false
   },
   "outputs": [],
   "source": [
    "some_text"
   ]
  },
  {
   "cell_type": "markdown",
   "metadata": {},
   "source": [
    "You can add them together. This is often called concatenation, meaning 'chaining together', & that is\n",
    "exactly what it does. Try:"
   ]
  },
  {
   "cell_type": "code",
   "execution_count": null,
   "metadata": {
    "collapsed": false
   },
   "outputs": [],
   "source": [
    "print \"GAMMO\" + \"N RASHERS\""
   ]
  },
  {
   "cell_type": "markdown",
   "metadata": {},
   "source": [
    "Combine string variables, like so:"
   ]
  },
  {
   "cell_type": "code",
   "execution_count": null,
   "metadata": {
    "collapsed": false
   },
   "outputs": [],
   "source": [
    "some_more_text=\"triple gloucester\"\n",
    "combined_text = some_text + \" \" + some_more_text\n",
    "combined_text"
   ]
  },
  {
   "cell_type": "markdown",
   "metadata": {},
   "source": [
    "In python you can even multiply texts:"
   ]
  },
  {
   "cell_type": "code",
   "execution_count": null,
   "metadata": {
    "collapsed": false
   },
   "outputs": [],
   "source": [
    "print \"hello, python for you \" * 8"
   ]
  },
  {
   "cell_type": "markdown",
   "metadata": {},
   "source": [
    "If you enjoy humiliating computers, type:"
   ]
  },
  {
   "cell_type": "code",
   "execution_count": null,
   "metadata": {
    "collapsed": true
   },
   "outputs": [],
   "source": [
    "print \"2+2 = \";2+1"
   ]
  },
  {
   "cell_type": "markdown",
   "metadata": {},
   "source": [
    "## Manipulating strings\n",
    "First let us find out how many letters are there in a string:"
   ]
  },
  {
   "cell_type": "code",
   "execution_count": null,
   "metadata": {
    "collapsed": false
   },
   "outputs": [],
   "source": [
    "len(\"Hello world!\")"
   ]
  },
  {
   "cell_type": "markdown",
   "metadata": {},
   "source": [
    "`len()` is a bult-in function in python. Of course you can use this functions on string variables as well. "
   ]
  },
  {
   "cell_type": "code",
   "execution_count": null,
   "metadata": {
    "collapsed": false
   },
   "outputs": [],
   "source": [
    "len(combined_text)"
   ]
  },
  {
   "cell_type": "markdown",
   "metadata": {},
   "source": [
    "EXERCISE: Compare `len(combined_text)` with `len(\"combined_text\")`. Is there a difference? Why?"
   ]
  },
  {
   "cell_type": "code",
   "execution_count": null,
   "metadata": {
    "collapsed": true
   },
   "outputs": [],
   "source": []
  },
  {
   "cell_type": "markdown",
   "metadata": {},
   "source": [
    "The string \"\" with no characters is called the empty or null string. It is only string whose length is 0.\n",
    "Remember that spaces are significant and an empty string is not the same as one containing spaces.\n",
    "\n",
    "Now let us extract slices from strings. Try:"
   ]
  },
  {
   "cell_type": "code",
   "execution_count": null,
   "metadata": {
    "collapsed": false
   },
   "outputs": [],
   "source": [
    "\"Hello World!\"[1]"
   ]
  },
  {
   "cell_type": "code",
   "execution_count": null,
   "metadata": {
    "collapsed": false
   },
   "outputs": [],
   "source": [
    "\"Hello World!\"[1:5]"
   ]
  },
  {
   "cell_type": "markdown",
   "metadata": {},
   "source": [
    "What about strings that contain mathematical expressions? Use the built-in functio `eval()` to evaluate these expressions:"
   ]
  },
  {
   "cell_type": "code",
   "execution_count": null,
   "metadata": {
    "collapsed": false
   },
   "outputs": [],
   "source": [
    "x=2\n",
    "text_variable=\"2*x**2\"\n",
    "eval(text_variable)"
   ]
  },
  {
   "cell_type": "code",
   "execution_count": null,
   "metadata": {
    "collapsed": true
   },
   "outputs": [],
   "source": []
  }
 ],
 "metadata": {
  "kernelspec": {
   "display_name": "Python 2",
   "language": "python",
   "name": "python2"
  },
  "language_info": {
   "codemirror_mode": {
    "name": "ipython",
    "version": 2
   },
   "file_extension": ".py",
   "mimetype": "text/x-python",
   "name": "python",
   "nbconvert_exporter": "python",
   "pygments_lexer": "ipython2",
   "version": "2.7.10"
  }
 },
 "nbformat": 4,
 "nbformat_minor": 0
}
